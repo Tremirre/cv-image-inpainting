{
 "cells": [
  {
   "cell_type": "code",
   "execution_count": 1,
   "metadata": {},
   "outputs": [],
   "source": [
    "import sys\n",
    "if \"..\" not in sys.path:\n",
    "    sys.path.append(\"..\")\n",
    "\n",
    "import os\n",
    "os.environ[\"TF_CPP_MIN_LOG_LEVEL\"] = \"2\"\n",
    "\n",
    "import numpy as np\n",
    "import tensorflow as tf\n",
    "import matplotlib.pyplot as plt\n",
    "import wandb\n",
    "import functools\n",
    "\n",
    "from src.display import showarray\n",
    "from src.mask import MaskGenerator\n",
    "from src.datagen import DatasetFillGenerator\n",
    "from src.augmenters import identical_augmenter, mask_image_augmenter\n",
    "from src.builders.unet import UNETBuilder"
   ]
  },
  {
   "cell_type": "code",
   "execution_count": 2,
   "metadata": {},
   "outputs": [
    {
     "name": "stderr",
     "output_type": "stream",
     "text": [
      "Failed to detect the name of this notebook, you can set it manually with the WANDB_NOTEBOOK_NAME environment variable to enable code saving.\n",
      "\u001b[34m\u001b[1mwandb\u001b[0m: Currently logged in as: \u001b[33msbartekt\u001b[0m (\u001b[33mput_dl_team\u001b[0m). Use \u001b[1m`wandb login --relogin`\u001b[0m to force relogin\n"
     ]
    },
    {
     "data": {
      "text/html": [
       "Tracking run with wandb version 0.13.9"
      ],
      "text/plain": [
       "<IPython.core.display.HTML object>"
      ]
     },
     "metadata": {},
     "output_type": "display_data"
    },
    {
     "data": {
      "text/html": [
       "Run data is saved locally in <code>c:\\Users\\Bartosz\\PycharmProjects\\CV3_PROJECT\\cv-image-inpainting\\notebooks\\wandb\\run-20230118_224247-3fz67oa2</code>"
      ],
      "text/plain": [
       "<IPython.core.display.HTML object>"
      ]
     },
     "metadata": {},
     "output_type": "display_data"
    },
    {
     "data": {
      "text/html": [
       "Syncing run <strong><a href=\"https://wandb.ai/put_dl_team/cv3-ii-ae-unet/runs/3fz67oa2\" target=\"_blank\">dark-night-17</a></strong> to <a href=\"https://wandb.ai/put_dl_team/cv3-ii-ae-unet\" target=\"_blank\">Weights & Biases</a> (<a href=\"https://wandb.me/run\" target=\"_blank\">docs</a>)<br/>"
      ],
      "text/plain": [
       "<IPython.core.display.HTML object>"
      ]
     },
     "metadata": {},
     "output_type": "display_data"
    },
    {
     "data": {
      "text/html": [
       " View project at <a href=\"https://wandb.ai/put_dl_team/cv3-ii-ae-unet\" target=\"_blank\">https://wandb.ai/put_dl_team/cv3-ii-ae-unet</a>"
      ],
      "text/plain": [
       "<IPython.core.display.HTML object>"
      ]
     },
     "metadata": {},
     "output_type": "display_data"
    },
    {
     "data": {
      "text/html": [
       " View run at <a href=\"https://wandb.ai/put_dl_team/cv3-ii-ae-unet/runs/3fz67oa2\" target=\"_blank\">https://wandb.ai/put_dl_team/cv3-ii-ae-unet/runs/3fz67oa2</a>"
      ],
      "text/plain": [
       "<IPython.core.display.HTML object>"
      ]
     },
     "metadata": {},
     "output_type": "display_data"
    }
   ],
   "source": [
    "wandb.init(project=\"cv3-ii-ae-unet\", entity=\"put_dl_team\")\n",
    "wandb.config = {\n",
    "  \"learning_rate\": 0.001,\n",
    "  \"epochs\": 10,\n",
    "  \"batch_size\": 16,\n",
    "  \"mask_gen_degree\": \"LIGHT\",\n",
    "  \"mask_gen_min_width\": 1,\n",
    "  \"mask_gen_max_width\": 5,\n",
    "  \"unet_n_filters\": 4,\n",
    "  \"unet_n_layers\": 4,\n",
    "  \"unet_n_convs\": 2, \n",
    "  \"learning_rate\": 0.001\n",
    "}\n",
    "\n",
    "IMAGE_SIZE = (256, 256)\n",
    "CHANNELS = 3\n",
    "BATCH_SIZE = wandb.config[\"batch_size\"]\n",
    "\n",
    "MASK_GEN_PARAM = {\n",
    "    \"degree\": wandb.config[\"mask_gen_degree\"],\n",
    "    \"min_width\": wandb.config[\"mask_gen_min_width\"],\n",
    "    \"max_width\": wandb.config[\"mask_gen_max_width\"],\n",
    "}\n",
    "\n",
    "mask_generator = MaskGenerator(*IMAGE_SIZE, CHANNELS, **MASK_GEN_PARAM)"
   ]
  },
  {
   "cell_type": "code",
   "execution_count": 3,
   "metadata": {},
   "outputs": [
    {
     "name": "stdout",
     "output_type": "stream",
     "text": [
      "Found 2188 files belonging to 1 classes.\n",
      "Using 1532 files for training.\n",
      "Using 656 files for validation.\n"
     ]
    }
   ],
   "source": [
    "def scale(x):\n",
    "    return x / 255.0\n",
    "\n",
    "def recast_to_image(tensor: tf.Tensor) -> np.ndarray:\n",
    "    return tf.cast(tensor * 255, tf.uint8).numpy()\n",
    "\n",
    "\n",
    "ds_train, ds_valid = tf.keras.preprocessing.image_dataset_from_directory(\n",
    "    directory=\"../data/1-8size\", label_mode=None, image_size=IMAGE_SIZE, batch_size=BATCH_SIZE,\n",
    "    shuffle=True, seed=42, validation_split=0.3, subset=\"both\",\n",
    ")\n",
    "ds_train = ds_train.map(scale)\n",
    "ds_valid = ds_valid.map(scale)\n",
    "\n",
    "for batch in ds_valid.take(1):\n",
    "    showcase_images = batch[:5]\n",
    "\n",
    "\n",
    "class ImageFillCallback(tf.keras.callbacks.Callback):\n",
    "    def __init__(self, model, showcase_images, mask_generator):\n",
    "        self.model = model\n",
    "        self.showcase_images = showcase_images\n",
    "        self.masked_images = mask_image_augmenter(self.showcase_images, mask_generator, 1.0)\n",
    "\n",
    "    def on_epoch_end(self, epoch, logs=None):\n",
    "        nn_filled = self.model.predict(self.masked_images)\n",
    "        all_joint = []\n",
    "        for i in range(5):\n",
    "            masked = recast_to_image(self.masked_images[i])\n",
    "            original_image = recast_to_image(self.showcase_images[i])\n",
    "            filled_image = recast_to_image(nn_filled[i])\n",
    "            joint = np.concatenate([masked, original_image, filled_image], axis=1)\n",
    "            all_joint.append(joint)\n",
    "        all_joint = np.concatenate(all_joint, axis=0)\n",
    "        wandb.log({\"sample_fill\": wandb.Image(all_joint)})\n",
    "\n",
    "dataset_image_augmenter = functools.partial(mask_image_augmenter, mask_generator=mask_generator, max_val=1.0)\n",
    "\n",
    "np.random.seed(42)\n",
    "train_generator = DatasetFillGenerator(ds_train, IMAGE_SIZE, CHANNELS, dataset_image_augmenter)\n",
    "valid_generator = DatasetFillGenerator(ds_valid, IMAGE_SIZE, CHANNELS, dataset_image_augmenter)"
   ]
  },
  {
   "cell_type": "code",
   "execution_count": 4,
   "metadata": {},
   "outputs": [
    {
     "name": "stdout",
     "output_type": "stream",
     "text": [
      "Model: \"model\"\n",
      "__________________________________________________________________________________________________\n",
      " Layer (type)                   Output Shape         Param #     Connected to                     \n",
      "==================================================================================================\n",
      " input_1 (InputLayer)           [(None, 256, 256, 3  0           []                               \n",
      "                                )]                                                                \n",
      "                                                                                                  \n",
      " conv2d (Conv2D)                (None, 256, 256, 4)  112         ['input_1[0][0]']                \n",
      "                                                                                                  \n",
      " conv2d_1 (Conv2D)              (None, 256, 256, 4)  148         ['conv2d[0][0]']                 \n",
      "                                                                                                  \n",
      " max_pooling2d (MaxPooling2D)   (None, 128, 128, 4)  0           ['conv2d_1[0][0]']               \n",
      "                                                                                                  \n",
      " conv2d_2 (Conv2D)              (None, 128, 128, 8)  296         ['max_pooling2d[0][0]']          \n",
      "                                                                                                  \n",
      " conv2d_3 (Conv2D)              (None, 128, 128, 8)  584         ['conv2d_2[0][0]']               \n",
      "                                                                                                  \n",
      " max_pooling2d_1 (MaxPooling2D)  (None, 64, 64, 8)   0           ['conv2d_3[0][0]']               \n",
      "                                                                                                  \n",
      " conv2d_4 (Conv2D)              (None, 64, 64, 16)   1168        ['max_pooling2d_1[0][0]']        \n",
      "                                                                                                  \n",
      " conv2d_5 (Conv2D)              (None, 64, 64, 16)   2320        ['conv2d_4[0][0]']               \n",
      "                                                                                                  \n",
      " max_pooling2d_2 (MaxPooling2D)  (None, 32, 32, 16)  0           ['conv2d_5[0][0]']               \n",
      "                                                                                                  \n",
      " conv2d_6 (Conv2D)              (None, 32, 32, 32)   4640        ['max_pooling2d_2[0][0]']        \n",
      "                                                                                                  \n",
      " conv2d_7 (Conv2D)              (None, 32, 32, 32)   9248        ['conv2d_6[0][0]']               \n",
      "                                                                                                  \n",
      " max_pooling2d_3 (MaxPooling2D)  (None, 16, 16, 32)  0           ['conv2d_7[0][0]']               \n",
      "                                                                                                  \n",
      " conv2d_8 (Conv2D)              (None, 16, 16, 32)   9248        ['max_pooling2d_3[0][0]']        \n",
      "                                                                                                  \n",
      " up_sampling2d (UpSampling2D)   (None, 32, 32, 32)   0           ['conv2d_8[0][0]']               \n",
      "                                                                                                  \n",
      " concatenate (Concatenate)      (None, 32, 32, 64)   0           ['up_sampling2d[0][0]',          \n",
      "                                                                  'conv2d_7[0][0]']               \n",
      "                                                                                                  \n",
      " conv2d_9 (Conv2D)              (None, 32, 32, 32)   18464       ['concatenate[0][0]']            \n",
      "                                                                                                  \n",
      " conv2d_10 (Conv2D)             (None, 32, 32, 32)   9248        ['conv2d_9[0][0]']               \n",
      "                                                                                                  \n",
      " conv2d_11 (Conv2D)             (None, 32, 32, 16)   4624        ['conv2d_10[0][0]']              \n",
      "                                                                                                  \n",
      " up_sampling2d_1 (UpSampling2D)  (None, 64, 64, 16)  0           ['conv2d_11[0][0]']              \n",
      "                                                                                                  \n",
      " concatenate_1 (Concatenate)    (None, 64, 64, 32)   0           ['up_sampling2d_1[0][0]',        \n",
      "                                                                  'conv2d_5[0][0]']               \n",
      "                                                                                                  \n",
      " conv2d_12 (Conv2D)             (None, 64, 64, 16)   4624        ['concatenate_1[0][0]']          \n",
      "                                                                                                  \n",
      " conv2d_13 (Conv2D)             (None, 64, 64, 16)   2320        ['conv2d_12[0][0]']              \n",
      "                                                                                                  \n",
      " conv2d_14 (Conv2D)             (None, 64, 64, 8)    1160        ['conv2d_13[0][0]']              \n",
      "                                                                                                  \n",
      " up_sampling2d_2 (UpSampling2D)  (None, 128, 128, 8)  0          ['conv2d_14[0][0]']              \n",
      "                                                                                                  \n",
      " concatenate_2 (Concatenate)    (None, 128, 128, 16  0           ['up_sampling2d_2[0][0]',        \n",
      "                                )                                 'conv2d_3[0][0]']               \n",
      "                                                                                                  \n",
      " conv2d_15 (Conv2D)             (None, 128, 128, 8)  1160        ['concatenate_2[0][0]']          \n",
      "                                                                                                  \n",
      " conv2d_16 (Conv2D)             (None, 128, 128, 8)  584         ['conv2d_15[0][0]']              \n",
      "                                                                                                  \n",
      " conv2d_17 (Conv2D)             (None, 128, 128, 4)  292         ['conv2d_16[0][0]']              \n",
      "                                                                                                  \n",
      " up_sampling2d_3 (UpSampling2D)  (None, 256, 256, 4)  0          ['conv2d_17[0][0]']              \n",
      "                                                                                                  \n",
      " concatenate_3 (Concatenate)    (None, 256, 256, 8)  0           ['up_sampling2d_3[0][0]',        \n",
      "                                                                  'conv2d_1[0][0]']               \n",
      "                                                                                                  \n",
      " conv2d_18 (Conv2D)             (None, 256, 256, 4)  292         ['concatenate_3[0][0]']          \n",
      "                                                                                                  \n",
      " conv2d_19 (Conv2D)             (None, 256, 256, 4)  148         ['conv2d_18[0][0]']              \n",
      "                                                                                                  \n",
      " conv2d_20 (Conv2D)             (None, 256, 256, 3)  15          ['conv2d_19[0][0]']              \n",
      "                                                                                                  \n",
      "==================================================================================================\n",
      "Total params: 70,695\n",
      "Trainable params: 70,695\n",
      "Non-trainable params: 0\n",
      "__________________________________________________________________________________________________\n"
     ]
    }
   ],
   "source": [
    "IM_SHAPE = (*IMAGE_SIZE, CHANNELS)\n",
    "builder = UNETBuilder(IM_SHAPE, IM_SHAPE, n_filters=wandb.config[\"unet_n_filters\"], n_layers=wandb.config[\"unet_n_layers\"], n_convs=wandb.config[\"unet_n_convs\"])\n",
    "model = builder.build()\n",
    "model.summary()"
   ]
  },
  {
   "cell_type": "code",
   "execution_count": 5,
   "metadata": {},
   "outputs": [],
   "source": [
    "model.compile(\n",
    "    optimizer=tf.keras.optimizers.Adam(learning_rate=wandb.config[\"learning_rate\"]),\n",
    "    loss=tf.keras.losses.MeanSquaredError()\n",
    ")"
   ]
  },
  {
   "cell_type": "code",
   "execution_count": 6,
   "metadata": {},
   "outputs": [
    {
     "name": "stderr",
     "output_type": "stream",
     "text": [
      "\u001b[34m\u001b[1mwandb\u001b[0m: \u001b[33mWARNING\u001b[0m The save_model argument by default saves the model in the HDF5 format that cannot save custom objects like subclassed models and custom layers. This behavior will be deprecated in a future release in favor of the SavedModel format. Meanwhile, the HDF5 model is saved as W&B files and the SavedModel as W&B Artifacts.\n"
     ]
    },
    {
     "name": "stdout",
     "output_type": "stream",
     "text": [
      "Epoch 1/10\n"
     ]
    },
    {
     "ename": "",
     "evalue": "",
     "output_type": "error",
     "traceback": [
      "\u001b[1;31mCanceled future for execute_request message before replies were done"
     ]
    },
    {
     "ename": "",
     "evalue": "",
     "output_type": "error",
     "traceback": [
      "\u001b[1;31mThe Kernel crashed while executing code in the the current cell or a previous cell. Please review the code in the cell(s) to identify a possible cause of the failure. Click <a href='https://aka.ms/vscodeJupyterKernelCrash'>here</a> for more info. View Jupyter <a href='command:jupyter.viewOutput'>log</a> for further details."
     ]
    }
   ],
   "source": [
    "model.fit(train_generator, epochs=10, validation_data=valid_generator, callbacks=[wandb.keras.WandbCallback(), ImageFillCallback(model, showcase_images, mask_generator)])"
   ]
  },
  {
   "cell_type": "code",
   "execution_count": null,
   "metadata": {},
   "outputs": [
    {
     "data": {
      "text/html": [
       "Waiting for W&B process to finish... <strong style=\"color:red\">(failed 1).</strong> Press Ctrl-C to abort syncing."
      ],
      "text/plain": [
       "<IPython.core.display.HTML object>"
      ]
     },
     "metadata": {},
     "output_type": "display_data"
    },
    {
     "data": {
      "text/html": [
       " View run <strong style=\"color:#cdcd00\">lunar-totem-16</strong> at: <a href=\"https://wandb.ai/put_dl_team/cv3-ii-ae-unet/runs/adot5im1\" target=\"_blank\">https://wandb.ai/put_dl_team/cv3-ii-ae-unet/runs/adot5im1</a><br/>Synced 6 W&B file(s), 0 media file(s), 0 artifact file(s) and 0 other file(s)"
      ],
      "text/plain": [
       "<IPython.core.display.HTML object>"
      ]
     },
     "metadata": {},
     "output_type": "display_data"
    },
    {
     "data": {
      "text/html": [
       "Find logs at: <code>.\\wandb\\run-20230118_224100-adot5im1\\logs</code>"
      ],
      "text/plain": [
       "<IPython.core.display.HTML object>"
      ]
     },
     "metadata": {},
     "output_type": "display_data"
    }
   ],
   "source": [
    "wandb.finish(0)"
   ]
  }
 ],
 "metadata": {
  "kernelspec": {
   "display_name": "deep",
   "language": "python",
   "name": "python3"
  },
  "language_info": {
   "codemirror_mode": {
    "name": "ipython",
    "version": 3
   },
   "file_extension": ".py",
   "mimetype": "text/x-python",
   "name": "python",
   "nbconvert_exporter": "python",
   "pygments_lexer": "ipython3",
   "version": "3.10.9"
  },
  "orig_nbformat": 4,
  "vscode": {
   "interpreter": {
    "hash": "223b5715064e6337f4c6c5c31ba119f7f673243f3a7867c303e638162a937524"
   }
  }
 },
 "nbformat": 4,
 "nbformat_minor": 2
}
